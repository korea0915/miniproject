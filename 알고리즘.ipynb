{
  "nbformat": 4,
  "nbformat_minor": 0,
  "metadata": {
    "colab": {
      "provenance": [],
      "toc_visible": true
    },
    "kernelspec": {
      "name": "python3",
      "display_name": "Python 3"
    },
    "language_info": {
      "name": "python"
    }
  },
  "cells": [
    {
      "cell_type": "code",
      "execution_count": null,
      "metadata": {
        "id": "zF1t8q_qQ6a2"
      },
      "outputs": [],
      "source": [
        "import pandas as pd\n",
        "import numpy as np\n",
        "import matplotlib.pyplot as plt\n",
        "import seaborn as sns"
      ]
    },
    {
      "cell_type": "code",
      "source": [
        "df = pd.read_csv(\"train.csv\")"
      ],
      "metadata": {
        "id": "uiK5KNgJRn8V"
      },
      "execution_count": null,
      "outputs": []
    },
    {
      "cell_type": "markdown",
      "source": [
        "###EDA (제거여부)"
      ],
      "metadata": {
        "id": "s-p-p8mdvDc1"
      }
    },
    {
      "cell_type": "markdown",
      "source": [
        "  - id: 칼럼id -제거-\n",
        "  - base_date: 날짜     -제거-\n",
        "  - day_of_week: 요일         라벨로 변경\n",
        "  - base_hour: 시간대\n",
        "  - lane_count: 차로수\n",
        "  - road_rating: 도로 등급       (106:지방도,103:일반국도,107:시도,군도)로 구성\n",
        "  - road_name: 도로 이름\n",
        "  - multi_linked: 중용구간 여부(0,1)로 구성  ->0개수:4698978 1개수:2239 -제거-\n",
        "  - connect_code: 연결로 코드         (0,103)로 구성\n",
        "  - maximum_speed_limit: 최고속도 제한       타겟과의 상관 관계가 제일 높음\n",
        "  - vehicle_restricted: 통과제한 차량   (값이 한개임) -제거-\n",
        "  - weight_restricted: 통과제한 하중         타겟과의 상관 관계가 두번째로 높음\n",
        "  - height_restricted: 통과 제한 높이    (값이 한개임) -제거-\n",
        "  - road_type: 도로 유형                     (0,3) 으로 구성 타겟과의 상관 관계가 세번재로 높음\n",
        "  - start_node_name: 시작지점명            온핫 인코딩 사용?\n",
        "  - start_latitude: 시작지점 위도\n",
        "  - start_longitude: 시작지점 경도\n",
        "  - start_turn_restricted: 시작 지점의 회전제한 유무      (있음,없음)으로 구성\n",
        "  - end_node_name: 도착지점명             온핫 인코딩 사용?\n",
        "  - end_latitude: 도착지점 위도\n",
        "  - end_longitude: 도착지점 경도\n",
        "  - end_turn_restricted: 도착 지점의 회전제한 유무    (있음,없음)으로 구성\n",
        "  - target: 평균속도(km)\n",
        "\n",
        "\n",
        "  1. 참조 https://www.law.go.kr/LSW/admRulInfoP.do?admRulSeq=2100000157569  (도로 규정)\n",
        "  2. 참조 https://tttsss77.tistory.com/147 (위도, 경도로 지도 찾기)\n",
        "  3. 참조 https://velog.io/@eodud0582/Folium 지도위에 표시(위도,경도 이용)\n",
        "  4. 참조 https://bskyvision.com/entry/python-%EC%A3%BC%EC%86%8C%EB%A5%BC-%EC%9C%84%EB%8F%84-%EA%B2%BD%EB%8F%84-%EC%A2%8C%ED%91%9C%EB%A1%9C-%EB%B0%94%EA%BF%94%EC%A3%BC%EB%8A%94-Geocoder-API-%EC%82%AC%EC%9A%A9%EB%B2%95 도로명 주소로 (위도,경도 찾기)"
      ],
      "metadata": {
        "id": "HaDCsLLQvFNO"
      }
    },
    {
      "cell_type": "code",
      "source": [
        "df.isnull().sum().plot(kind=\"bar\")   ##null값 없음"
      ],
      "metadata": {
        "id": "Kal_dWNYvsR-"
      },
      "execution_count": null,
      "outputs": []
    },
    {
      "cell_type": "code",
      "source": [
        "#상관관계도 확인\n",
        "plt.figure(figsize = (15,8))\n",
        "sns.heatmap(df.corr(), annot=True)\n",
        "###최고 속도 제한이 제일 높음\n",
        "###통과제한 하중 높이가 두번재\n",
        "###도로 유형이 3번째\n",
        "### 3개의 칼럼 확인"
      ],
      "metadata": {
        "id": "_-8ABlqVvtN-"
      },
      "execution_count": null,
      "outputs": []
    },
    {
      "cell_type": "code",
      "source": [
        "##너무 높은값 제거\n",
        "sns.boxplot(x = \"maximum_speed_limit\", y = \"target\", data = df)\n"
      ],
      "metadata": {
        "id": "5WSvF5elvyt4"
      },
      "execution_count": null,
      "outputs": []
    },
    {
      "cell_type": "markdown",
      "source": [
        "###전처리"
      ],
      "metadata": {
        "id": "ivqgyPHJvA1H"
      }
    },
    {
      "cell_type": "code",
      "source": [
        "##필요없는 칼럼 삭제\n",
        "df.drop([\"id\", \"base_date\",\"vehicle_restricted\", \"height_restricted\"], axis=1, inplace=True)"
      ],
      "metadata": {
        "id": "zTKUsbMLp3Bv"
      },
      "execution_count": null,
      "outputs": []
    },
    {
      "cell_type": "code",
      "source": [
        "# 1차 자료형 (변형  혹시 데이터들이 너무 클경우: 64->32로 변형)\n",
        "# to_int32 = [\"base_hour\", \"lane_count\", \"road_rating\", \"multi_linked\", \"connect_code\", \"road_type\"]\n",
        "# to_float32 = [\"maximum_speed_limit\", \"weight_restricted\", \"target\"]\n",
        "\n",
        "# for i in to_int32:\n",
        "#     df[i] = df[i].astype(\"int32\")\n",
        "# for j in to_float32:\n",
        "#     df[j] = df[j].astype(\"float32\")"
      ],
      "metadata": {
        "id": "2Fzku8RBvZ3F"
      },
      "execution_count": null,
      "outputs": []
    },
    {
      "cell_type": "code",
      "source": [
        "df2 = df[df[\"target\"] <100].copy() ##속도가 100 넘는값들 제외하고 df2에 데이터 프레임 저장"
      ],
      "metadata": {
        "id": "twJIKk_1vwv2"
      },
      "execution_count": null,
      "outputs": []
    },
    {
      "cell_type": "code",
      "source": [
        "from sklearn.preprocessing import LabelEncoder ##라벨 인코딩위해 불러오기"
      ],
      "metadata": {
        "id": "xhseh-z0wBCl"
      },
      "execution_count": null,
      "outputs": []
    },
    {
      "cell_type": "code",
      "source": [
        "chage_c = [\"day_of_week\",\"road_name\", \"start_node_name\", \"end_node_name\",\n",
        "           \"start_turn_restricted\", \"end_turn_restricted\", \"weight_restricted\", \"road_rating\",\n",
        "           \"road_type\",]\n",
        "for i in chage_c:\n",
        "    le = LabelEncoder()\n",
        "    le=le.fit(df2[i])\n",
        "    df2[i]=le.transform(df2[i])"
      ],
      "metadata": {
        "id": "x1Mbw_JpwBhO"
      },
      "execution_count": null,
      "outputs": []
    },
    {
      "cell_type": "code",
      "source": [
        "# from sklearn.preprocessing import OneHotEncoder  (원-핫 인코딩이필요한 경우)\n",
        "\n",
        "# ohe = OneHotEncoder (sparse = False)"
      ],
      "metadata": {
        "id": "ifHC1aZuwFi9"
      },
      "execution_count": null,
      "outputs": []
    },
    {
      "cell_type": "markdown",
      "source": [
        "###훈련셋&시험셋 나누기\n"
      ],
      "metadata": {
        "id": "k-VZN9gzRWfO"
      }
    },
    {
      "cell_type": "code",
      "source": [
        "from sklearn.model_selection import train_test_split ###불러오기\n"
      ],
      "metadata": {
        "id": "Pcg2VE1xRMvX"
      },
      "execution_count": null,
      "outputs": []
    },
    {
      "cell_type": "code",
      "source": [
        "X = df.drop('target', axis=1)           ##x축 \n",
        "y = df.target                          ##y축"
      ],
      "metadata": {
        "id": "nbz1S0bQRf3e"
      },
      "execution_count": null,
      "outputs": []
    },
    {
      "cell_type": "code",
      "source": [
        "X_train, X_test, y_train, y_test = train_test_split(\n",
        "    X, y, test_size=0.2, random_state=100\n",
        ")"
      ],
      "metadata": {
        "id": "iT0moeA4R8B1"
      },
      "execution_count": null,
      "outputs": []
    },
    {
      "cell_type": "markdown",
      "source": [
        "##랜덤포레스트 모델: 김영광"
      ],
      "metadata": {
        "id": "jWHiZ2zARwJn"
      }
    },
    {
      "cell_type": "code",
      "source": [
        "from sklearn.ensemble import RandomForestRegressor  ##랜덤포레스트 불러오기"
      ],
      "metadata": {
        "id": "eT_dXS2rRuNW"
      },
      "execution_count": null,
      "outputs": []
    },
    {
      "cell_type": "code",
      "source": [
        "model = RandomForestRegressor(random_state=100)\n",
        "model.fit(X_train, y_train)\n",
        "train_pred = model.predict(X_train)\n",
        "test_pred = model.predict(X_test) "
      ],
      "metadata": {
        "id": "k1ZBJg3tR302"
      },
      "execution_count": null,
      "outputs": []
    },
    {
      "cell_type": "markdown",
      "source": [
        "###라이트GBM : 이준희\n"
      ],
      "metadata": {
        "id": "APu5wEJiSUx1"
      }
    },
    {
      "cell_type": "code",
      "source": [
        "import lightgbm as lgb"
      ],
      "metadata": {
        "id": "p4HfBXv0SZQu"
      },
      "execution_count": null,
      "outputs": []
    },
    {
      "cell_type": "code",
      "source": [
        "model = lgb.LGBMRegressor(random_state=100)\n",
        "model.fit(X_train, y_train)\n",
        "pred = model.predict(X_test)"
      ],
      "metadata": {
        "id": "Rj7HpSxLSdfY"
      },
      "execution_count": null,
      "outputs": []
    },
    {
      "cell_type": "markdown",
      "source": [
        "###*CatBoost :배진혁"
      ],
      "metadata": {
        "id": "jJkQicdXSx29"
      }
    },
    {
      "cell_type": "code",
      "source": [
        "pip install catboost ###캣부스트 설치\n",
        "import catboost as cat\n",
        "from catboost import CatBoostRegressor            ###모델링 구현\n",
        "from sklearn.metrics import mean_squared_error, mean_absolute_error, r2_score\n",
        "cat = CatBoostRegressor(iterations=1000,\n",
        "                              learning_rate=0.05,\n",
        "                              depth=10,\n",
        "                              eval_metric='RMSE',\n",
        "                              random_seed = 42,\n",
        "                              bagging_temperature = 0.2,\n",
        "                              od_type='Iter',\n",
        "                              metric_period = 50,\n",
        "                              od_wait=20)\n",
        "cat.fit(X_train,y_train)\n",
        "cat_predict = cat.predict(X_test)"
      ],
      "metadata": {
        "id": "a9mnNRY0S0gV"
      },
      "execution_count": null,
      "outputs": []
    },
    {
      "cell_type": "markdown",
      "source": [
        "###XGBoost"
      ],
      "metadata": {
        "id": "sEYzGO7JTYBF"
      }
    },
    {
      "cell_type": "code",
      "source": [
        "import xgboost as xgb   ##XGBoost 불러오기\n",
        "xgb = xgb.XGBRegressor(n_estimators=100, max_depth = 100)  ##모델링\n",
        "xgb.fit(X_train, y_train)\n",
        "xgb_predict = xgb.predict(X_test)"
      ],
      "metadata": {
        "id": "4JtFpIuRTW-M"
      },
      "execution_count": null,
      "outputs": []
    },
    {
      "cell_type": "markdown",
      "source": [
        "###결정트리"
      ],
      "metadata": {
        "id": "tF4P8yB-UFnl"
      }
    },
    {
      "cell_type": "code",
      "source": [
        "from sklearn.tree import DecisionTreeRegressor        ##DecisionTreeRegressor불러오기\n",
        "dtree = DecisionTreeRegressor (max_depth = 15,\n",
        "                               min_samples_split=2,\n",
        "                               min_samples_leaf=1,\n",
        "                               min_weight_fraction_leaf=0.0,\n",
        "                               max_features=None,\n",
        "                               random_state=1,\n",
        "                               max_leaf_nodes=None,\n",
        "                               min_impurity_decrease=0.0,\n",
        "                               ccp_alpha=0)\n",
        "dtree.fit(X_train,y_train)\n",
        "dtree_predict = dtree.predict(X_test)"
      ],
      "metadata": {
        "id": "lMoV3_c4S-22"
      },
      "execution_count": null,
      "outputs": []
    },
    {
      "cell_type": "code",
      "source": [
        "##최적화 트리 깊이 확인\n",
        "def test_depth(depth):\n",
        "    # max_depth : 트리의 깊이 제한\n",
        "    model = DecisionTreeRegressor(random_state=100, max_depth=depth)\n",
        "    model.fit(X_train, y_train) # 훈련 데이터 -> 모델 학습\n",
        "    # 훈련 데이터로 모델을 통해서 예측\n",
        "    train_pred = model.predict(X_train) # 학습을 시킨 값으로 다시 예측\n",
        "    # 시험 데이터로 모델을 통해서 예측\n",
        "    test_pred = model.predict(X_test) \n",
        "    print(f\"depth : {depth}\")\n",
        "    print(f\"Train Score : {model.score(X_train,y_train)}\")\n",
        "    print(f\"Test Score : {model.score(X_test,y_test)}\") "
      ],
      "metadata": {
        "id": "1Xe1AEm_UtoF"
      },
      "execution_count": null,
      "outputs": []
    },
    {
      "cell_type": "markdown",
      "source": [
        "###하이퍼 파라미터 && Kfold"
      ],
      "metadata": {
        "id": "9l8tCHr_Uf1F"
      }
    },
    {
      "cell_type": "code",
      "source": [
        "train_rmse_total = []\n",
        "test_rmse_total = []\n",
        "\n",
        "for train_index, test_index in kf.split(X): # 반복 <- 5기준으로 나뉜 K-Fold\n",
        "    X_train, X_test = X.loc[train_index], X.loc[test_index] # 독립변수들의 훈련셋/시험셋\n",
        "    y_train, y_test = y[train_index], y[test_index] # 종속변수의 훈련셋/시험셋\n",
        "\n",
        "    model = RandomForestRegressor(random_state=100) ##특정 알고리즘##\n",
        "    (         \n",
        "        n_estimators = 500,\n",
        "        max_depth = 60,\n",
        "        min_samples_split = 5,\n",
        "        min_samples_leaf = 1,\n",
        "        n_jobs= -1,\n",
        "        random_state = 100\n",
        "    )\n",
        "\n",
        "    model.fit(X_train, y_train) # 학습\n",
        "    train_pred = model.predict(X_train) # 훈련셋 예측 (잘 학습되었나? 과최적화, 오버피팅?)\n",
        "    test_pred = model.predict(X_test) # 시험셋 예측 (잘 예측하나?, 언더피팅)"
      ],
      "metadata": {
        "id": "HlJLo-smUk29"
      },
      "execution_count": null,
      "outputs": []
    },
    {
      "cell_type": "markdown",
      "source": [
        "###에러(RMSE) 스코어 확인"
      ],
      "metadata": {
        "id": "OUerWcaZVE21"
      }
    },
    {
      "cell_type": "code",
      "source": [
        "print(\n",
        "    # 실제값, 예측값 -> 에러를 비교\n",
        "    \"train_rmse : \", sum(train_rmse_total) / len(train_rmse_total),\n",
        "    \"test_rmse : \", sum(test_rmse_total) / len(test_rmse_total)\n",
        ")"
      ],
      "metadata": {
        "id": "M8Fl4yMWVXgt"
      },
      "execution_count": null,
      "outputs": []
    },
    {
      "cell_type": "code",
      "source": [
        "print(f\"Train Score : {model.score(X_train, y_train)}\") # 스코어 확인\n",
        "print(f\"Test Score : {model.score(X_test, y_test)}\") "
      ],
      "metadata": {
        "id": "FO2ruLj_VW4O"
      },
      "execution_count": null,
      "outputs": []
    }
  ]
}